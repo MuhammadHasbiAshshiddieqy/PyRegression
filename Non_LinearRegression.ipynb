{
  "nbformat": 4,
  "nbformat_minor": 0,
  "metadata": {
    "kernelspec": {
      "display_name": "Python 3",
      "language": "python",
      "name": "python3"
    },
    "language_info": {
      "codemirror_mode": {
        "name": "ipython",
        "version": 3
      },
      "file_extension": ".py",
      "mimetype": "text/x-python",
      "name": "python",
      "nbconvert_exporter": "python",
      "pygments_lexer": "ipython3",
      "version": "3.7.0"
    },
    "colab": {
      "name": "Non-LinearRegression.ipynb",
      "provenance": [],
      "collapsed_sections": []
    }
  },
  "cells": [
    {
      "cell_type": "markdown",
      "metadata": {
        "id": "NoHtpewHsSBW",
        "colab_type": "text"
      },
      "source": [
        "## Homework 4\n",
        "\n",
        "This assignment is about fitting models to data and analyzing data to determine statistical quantities. Data analysis is a major part of an engineer's ability to extract useful and actionable information from data.\n",
        "\n",
        "* Nonlinear regression\n",
        "* Statistical and other functions\n",
        "* Create bar plot"
      ]
    },
    {
      "cell_type": "markdown",
      "metadata": {
        "id": "AS8em9rPsSBY",
        "colab_type": "text"
      },
      "source": [
        "### Problem #1\n",
        "\n",
        "Heart rate data (Beats per minute or BPM) as a function of time (sec) for a twenty-minute period of constant exertion is found at:\n",
        "\n",
        "* <a href='https://apmonitor.com/che263/uploads/Main/heart_rate.txt' target='_blank'>Heart Rate Data, URL: https://apmonitor.com/che263/uploads/Main/heart_rate.txt</a>\n",
        "\n",
        "The time of each measurement, in seconds, in listed in the first column, and the measured heart rate, in beats per minute, in the second column. \n",
        "\n",
        "***Action:*** Import the data, print the first 5 rows, and print summary statistics."
      ]
    },
    {
      "cell_type": "code",
      "metadata": {
        "id": "c55U61PYsSBY",
        "colab_type": "code",
        "colab": {
          "base_uri": "https://localhost:8080/",
          "height": 202
        },
        "outputId": "ce458bf0-c73c-4c2b-d3d0-29255bca7d46"
      },
      "source": [
        "import pandas as pd\n",
        "heartDF = pd.read_csv(\"https://apmonitor.com/che263/uploads/Main/heart_rate.txt\")\n",
        "heartDF.head()"
      ],
      "execution_count": 160,
      "outputs": [
        {
          "output_type": "execute_result",
          "data": {
            "text/html": [
              "<div>\n",
              "<style scoped>\n",
              "    .dataframe tbody tr th:only-of-type {\n",
              "        vertical-align: middle;\n",
              "    }\n",
              "\n",
              "    .dataframe tbody tr th {\n",
              "        vertical-align: top;\n",
              "    }\n",
              "\n",
              "    .dataframe thead th {\n",
              "        text-align: right;\n",
              "    }\n",
              "</style>\n",
              "<table border=\"1\" class=\"dataframe\">\n",
              "  <thead>\n",
              "    <tr style=\"text-align: right;\">\n",
              "      <th></th>\n",
              "      <th>Time (sec)</th>\n",
              "      <th>Heart Rate (BPM)</th>\n",
              "    </tr>\n",
              "  </thead>\n",
              "  <tbody>\n",
              "    <tr>\n",
              "      <th>0</th>\n",
              "      <td>0.0</td>\n",
              "      <td>103</td>\n",
              "    </tr>\n",
              "    <tr>\n",
              "      <th>1</th>\n",
              "      <td>5.0</td>\n",
              "      <td>103</td>\n",
              "    </tr>\n",
              "    <tr>\n",
              "      <th>2</th>\n",
              "      <td>10.0</td>\n",
              "      <td>103</td>\n",
              "    </tr>\n",
              "    <tr>\n",
              "      <th>3</th>\n",
              "      <td>15.0</td>\n",
              "      <td>105</td>\n",
              "    </tr>\n",
              "    <tr>\n",
              "      <th>4</th>\n",
              "      <td>20.0</td>\n",
              "      <td>108</td>\n",
              "    </tr>\n",
              "  </tbody>\n",
              "</table>\n",
              "</div>"
            ],
            "text/plain": [
              "   Time (sec)  Heart Rate (BPM)\n",
              "0         0.0               103\n",
              "1         5.0               103\n",
              "2        10.0               103\n",
              "3        15.0               105\n",
              "4        20.0               108"
            ]
          },
          "metadata": {
            "tags": []
          },
          "execution_count": 160
        }
      ]
    },
    {
      "cell_type": "markdown",
      "metadata": {
        "id": "kuLqfwCDsSBf",
        "colab_type": "text"
      },
      "source": [
        "***Action:*** Create a function that returns the predicted BPM given the time (t) and the four constants.\n"
      ]
    },
    {
      "cell_type": "code",
      "metadata": {
        "id": "DbzUGbA2sSBg",
        "colab_type": "code",
        "colab": {}
      },
      "source": [
        "import numpy as np\n",
        "\n",
        "def predictBPM(t, c0, c1, c2, c3):\n",
        "  return c0+c1*t-c2*np.exp(-c3*t)"
      ],
      "execution_count": 161,
      "outputs": []
    },
    {
      "cell_type": "markdown",
      "metadata": {
        "id": "RQLxN6DlsSBj",
        "colab_type": "text"
      },
      "source": [
        "***Action:*** To obtain good guess values, plot the data and the function before trying the solver. Providing good guess values is the key to getting a solution.\n",
        "\n",
        "* $c_0$ and $c_2$ are in the range of $50$ to $200$\n",
        "* $c_1$ and $c_3$ are closer to $0.01$"
      ]
    },
    {
      "cell_type": "code",
      "metadata": {
        "id": "gkmUixoNsSBj",
        "colab_type": "code",
        "colab": {
          "base_uri": "https://localhost:8080/",
          "height": 265
        },
        "outputId": "a2d395de-fcef-44a7-9d0e-1372dc6383ec"
      },
      "source": [
        "%matplotlib inline\n",
        "import matplotlib.pyplot as plt\n",
        "\n",
        "guess = [150, 0.01, 80, 0.01]\n",
        "\n",
        "y = np.empty(heartDF.shape[0])\n",
        "t = heartDF['Time (sec)'].values\n",
        "hr = heartDF['Heart Rate (BPM)'].values\n",
        "for i in range(heartDF.shape[0]):\n",
        "  y[i] = predictBPM(t[i], guess[0], guess[1], guess[2], guess[3])\n",
        "\n",
        "plt.scatter(t, hr)\n",
        "plt.plot(t, y, color = 'r')\n",
        "plt.show()"
      ],
      "execution_count": 197,
      "outputs": [
        {
          "output_type": "display_data",
          "data": {
            "image/png": "[encoded data removed]",
            "text/plain": [
              "<Figure size 432x288 with 1 Axes>"
            ]
          },
          "metadata": {
            "tags": [],
            "needs_background": "light"
          }
        }
      ]
    },
    {
      "cell_type": "markdown",
      "metadata": {
        "id": "g3u25NzhsSBm",
        "colab_type": "text"
      },
      "source": [
        "***Action:*** Fit the data to the following correlation by adjusting the values of $c_0$, $c_1$, $c_2$, $c_3$ using ```scipy.optimize.curve_fit```.\n",
        "\n",
        "$BPM=c_0+c_1 \\, t-c_2 e^{-c_3 \\, t}$\n",
        "\n",
        "Determine the values of c0, c1, c2, and c3 that minimize the error between the model prediction and measured values."
      ]
    },
    {
      "cell_type": "code",
      "metadata": {
        "id": "xoY4DCICsSBn",
        "colab_type": "code",
        "colab": {
          "base_uri": "https://localhost:8080/",
          "height": 265
        },
        "outputId": "0c2512e1-2d41-4555-b846-3aecf365cfdb"
      },
      "source": [
        "from scipy.optimize import curve_fit\n",
        "\n",
        "c, cov = curve_fit(predictBPM, t, hr, guess)\n",
        "for i in range(heartDF.shape[0]):\n",
        "  y[i] = predictBPM(t[i], c[0], c[1], c[2], c[3])\n",
        "\n",
        "plt.scatter(t, hr)\n",
        "plt.plot(t, y, color = 'r')\n",
        "plt.show()"
      ],
      "execution_count": 163,
      "outputs": [
        {
          "output_type": "display_data",
          "data": {
            "image/png": "[encoded data removed]",
            "text/plain": [
              "<Figure size 432x288 with 1 Axes>"
            ]
          },
          "metadata": {
            "tags": [],
            "needs_background": "light"
          }
        }
      ]
    },
    {
      "cell_type": "markdown",
      "metadata": {
        "id": "Mehs2UAwsSBp",
        "colab_type": "text"
      },
      "source": [
        "***Action:*** Calculate the $R^2$ value for the fit.  Values closer to $1$ are a better fit than those closer to $0$. One method is to use ```sklearn```:\n",
        "\n",
        "```python\n",
        "from sklearn.metrics import r2_score\n",
        "print('R^2: ', r2_score(yp,ym))\n",
        "```\n",
        "\n",
        "where ```yp``` are the predicted values and ```ym``` are the measured values. The $R^2$ value should be close to 0.98."
      ]
    },
    {
      "cell_type": "code",
      "metadata": {
        "id": "kCuVy2IRsSBq",
        "colab_type": "code",
        "colab": {
          "base_uri": "https://localhost:8080/",
          "height": 35
        },
        "outputId": "e5248ef0-990d-480d-9153-8e55e218c65c"
      },
      "source": [
        "from sklearn.metrics import r2_score\n",
        "\n",
        "print(f'R2 Score : {r2_score(y,hr)}')"
      ],
      "execution_count": 164,
      "outputs": [
        {
          "output_type": "stream",
          "text": [
            "R2 Score : 0.9929887696680648\n"
          ],
          "name": "stdout"
        }
      ]
    },
    {
      "cell_type": "markdown",
      "metadata": {
        "id": "fiD18TrFsSBs",
        "colab_type": "text"
      },
      "source": [
        "### Problem #2\n",
        "\n",
        "This next exercise is similar to the one above but it also requires a conditional statement to determine if the time is past the dead-time limit. The following link contains data for the response of a first order system with time delay.  \n",
        "\n",
        "* <a href='https://apmonitor.com/che263/uploads/Main/dynamics.txt' target='_blank'>Dynamic Data, URL: https://apmonitor.com/che263/uploads/Main/dynamics.txt</a>\n",
        "\n",
        "Such step data is used to create controllers for automation. You will learn about this in <a href='https://apmonitor.com/pdc' target='_blank'>ChE 436, Process Dynamics and Control</a>.\n",
        "\n",
        "***Action:*** Import the data, view the first 5 rows, generate a plot, and calculate summary statistics."
      ]
    },
    {
      "cell_type": "code",
      "metadata": {
        "id": "REYcu4JxsSBs",
        "colab_type": "code",
        "colab": {
          "base_uri": "https://localhost:8080/",
          "height": 202
        },
        "outputId": "baa7fea9-3f2c-498a-df3c-1dbbdf9b1c06"
      },
      "source": [
        "df = pd.read_csv(\"https://apmonitor.com/che263/uploads/Main/dynamics.txt\")\n",
        "t = df['time (min)'].values\n",
        "ym = df['y'].values\n",
        "\n",
        "df.head()"
      ],
      "execution_count": 189,
      "outputs": [
        {
          "output_type": "execute_result",
          "data": {
            "text/html": [
              "<div>\n",
              "<style scoped>\n",
              "    .dataframe tbody tr th:only-of-type {\n",
              "        vertical-align: middle;\n",
              "    }\n",
              "\n",
              "    .dataframe tbody tr th {\n",
              "        vertical-align: top;\n",
              "    }\n",
              "\n",
              "    .dataframe thead th {\n",
              "        text-align: right;\n",
              "    }\n",
              "</style>\n",
              "<table border=\"1\" class=\"dataframe\">\n",
              "  <thead>\n",
              "    <tr style=\"text-align: right;\">\n",
              "      <th></th>\n",
              "      <th>time (min)</th>\n",
              "      <th>y</th>\n",
              "    </tr>\n",
              "  </thead>\n",
              "  <tbody>\n",
              "    <tr>\n",
              "      <th>0</th>\n",
              "      <td>0.0</td>\n",
              "      <td>0.0</td>\n",
              "    </tr>\n",
              "    <tr>\n",
              "      <th>1</th>\n",
              "      <td>0.1</td>\n",
              "      <td>0.0</td>\n",
              "    </tr>\n",
              "    <tr>\n",
              "      <th>2</th>\n",
              "      <td>0.2</td>\n",
              "      <td>1.9</td>\n",
              "    </tr>\n",
              "    <tr>\n",
              "      <th>3</th>\n",
              "      <td>0.3</td>\n",
              "      <td>3.2</td>\n",
              "    </tr>\n",
              "    <tr>\n",
              "      <th>4</th>\n",
              "      <td>0.4</td>\n",
              "      <td>4.0</td>\n",
              "    </tr>\n",
              "  </tbody>\n",
              "</table>\n",
              "</div>"
            ],
            "text/plain": [
              "   time (min)    y\n",
              "0         0.0  0.0\n",
              "1         0.1  0.0\n",
              "2         0.2  1.9\n",
              "3         0.3  3.2\n",
              "4         0.4  4.0"
            ]
          },
          "metadata": {
            "tags": []
          },
          "execution_count": 189
        }
      ]
    },
    {
      "cell_type": "markdown",
      "metadata": {
        "id": "wdy97qgBsSB1",
        "colab_type": "text"
      },
      "source": [
        "Conditional statements are used to direct the flow of the program to different commands based on whether a statement is ```True``` or ```False```. A boolean (```True``` or ```False```) is used to direct the flow with an ```if```, ```elif``` (else if), or ```else``` parts to the statement.\n",
        "\n",
        "```python\n",
        "x = 5\n",
        "if (x<3):\n",
        "    print('less than 3')\n",
        "elif (x<4):\n",
        "    print('between 3 and 4')\n",
        "else:\n",
        "    print('greater than 4')\n",
        "```\n",
        "\n",
        "As the value of ```x``` changes, a different message is printed. \n",
        "\n",
        "There is a switching function that equals *zero* when time is less than the dead-time $(\\theta)$ and equals *one* when time is greater than or equal to the dead-time.\n",
        "\n",
        "$S(t-\\theta) = \\left[ {\\begin{array}{c} 0 \\, \\mathrm{when} \\, t \\lt \\theta \\\\ 1 \\, \\mathrm{when} \\, t\\ge \\theta \\end{array} } \\right]$\n",
        "\n",
        "***Action:*** With an initial guess of $\\theta$ = 0.4, calculate the value of $S(t-\\theta)$ for all time points in the data."
      ]
    },
    {
      "cell_type": "code",
      "metadata": {
        "id": "EWeNSN2MsSB2",
        "colab_type": "code",
        "colab": {
          "base_uri": "https://localhost:8080/",
          "height": 35
        },
        "outputId": "cbb233a5-c040-46cf-c406-5409e6654e05"
      },
      "source": [
        "theta = 0.4\n",
        "n = len(t)\n",
        "S = np.empty(n)\n",
        "\n",
        "for i in range(n):\n",
        "  if t[i]<theta:\n",
        "    S[i] = 0\n",
        "  else:\n",
        "    S[i] = 1\n",
        "\n",
        "print(S)"
      ],
      "execution_count": 190,
      "outputs": [
        {
          "output_type": "stream",
          "text": [
            "[0. 0. 0. 0. 1. 1. 1. 1. 1. 1. 1. 1. 1.]\n"
          ],
          "name": "stdout"
        }
      ]
    },
    {
      "cell_type": "markdown",
      "metadata": {
        "id": "8jhbd_1msSB6",
        "colab_type": "text"
      },
      "source": [
        "***Action:*** Define a function ```yfcn``` that has input arguments of ```t``` (time), ```tau``` ($\\tau$), and ```theta``` ($\\theta).\n",
        "\n",
        "```python\n",
        "def yfcn(t,tau,theta):\n",
        "```\n",
        "\n",
        "The function should return the predicted ```y(t)``` values as a Numpy array."
      ]
    },
    {
      "cell_type": "code",
      "metadata": {
        "id": "o4Pv_hiusSB7",
        "colab_type": "code",
        "colab": {
          "base_uri": "https://localhost:8080/",
          "height": 69
        },
        "outputId": "b15ade4c-5c31-4c83-85bb-36e5a00d12bf"
      },
      "source": [
        "def predictY(t, tau, theta):\n",
        "  z = 5*(1-np.exp(-(t-theta)/tau))\n",
        "  S = np.empty(n)\n",
        "  for i in range(n):\n",
        "    if t[i]<theta:\n",
        "      S[i] = 0\n",
        "    else:\n",
        "      S[i] = 1\n",
        "  return z*S\n",
        "\n",
        "print(predictY(t,3,0.2))"
      ],
      "execution_count": 188,
      "outputs": [
        {
          "output_type": "stream",
          "text": [
            "[-0.         -0.          0.          0.1639195   0.32246507  0.47581291\n",
            "  0.6241334   0.76759138  0.90634623  1.04055217  1.17035831  1.2959089\n",
            "  1.41734345]\n"
          ],
          "name": "stdout"
        }
      ]
    },
    {
      "cell_type": "markdown",
      "metadata": {
        "id": "HXMaBcYcsSB_",
        "colab_type": "text"
      },
      "source": [
        "***Action:*** Find the constants, $\\tau$ and $\\theta$, to best fit the process data, y(t).\n",
        "\n",
        "$y(t)=5 \\left( 1-\\exp{\\left(-\\frac{t-\\theta}{\\tau}\\right)} \\right) S(t-\\theta)$\n",
        "\n",
        "Use ```scipy.optimize.curve_fit``` to find a solution:\n",
        "\n",
        "```python\n",
        "# yfcn=function name from above\n",
        "# t=time\n",
        "# ym=measured y(t)\n",
        "c,cov = curve_fit(yfcn,t,ym)\n",
        "```"
      ]
    },
    {
      "cell_type": "code",
      "metadata": {
        "id": "TZ0NNkBMsSCA",
        "colab_type": "code",
        "colab": {}
      },
      "source": [
        "c,cov = curve_fit(predictY, t, ym)\n",
        "yp = predictY(t,c[0],c[1])"
      ],
      "execution_count": 194,
      "outputs": []
    },
    {
      "cell_type": "markdown",
      "metadata": {
        "id": "5Y3r2jbysSCD",
        "colab_type": "text"
      },
      "source": [
        "***Action:*** Calculate the $R^2$ value for the fit. One method is to use ```sklearn```:\n",
        "\n",
        "```python\n",
        "from sklearn.metrics import r2_score\n",
        "print('R^2: ', r2_score(yp,ym))\n",
        "```\n",
        "\n",
        "where ```yp``` are the predicted values and ```ym``` are the measured values."
      ]
    },
    {
      "cell_type": "code",
      "metadata": {
        "id": "LINy_ut3sSCD",
        "colab_type": "code",
        "colab": {
          "base_uri": "https://localhost:8080/",
          "height": 35
        },
        "outputId": "d3c08924-267f-4842-f16e-453c6a52bf53"
      },
      "source": [
        "from sklearn.metrics import r2_score\n",
        "\n",
        "print(f'R2 Score : {r2_score(yp,ym)}')"
      ],
      "execution_count": 195,
      "outputs": [
        {
          "output_type": "stream",
          "text": [
            "R2 Score : 0.999366286810876\n"
          ],
          "name": "stdout"
        }
      ]
    },
    {
      "cell_type": "markdown",
      "metadata": {
        "id": "_Tx9s-JusSCL",
        "colab_type": "text"
      },
      "source": [
        "***Action:*** Generate a plot that shows the data and the function with the optimized parameters. It should look similar to the plot shown below.\n",
        "\n",
        "![step_test.png](attachment:step_test.png)"
      ]
    },
    {
      "cell_type": "code",
      "metadata": {
        "id": "c467xSJ0sSCM",
        "colab_type": "code",
        "colab": {
          "base_uri": "https://localhost:8080/",
          "height": 265
        },
        "outputId": "7dfac4e7-32cc-4645-fa4d-e5c881ac3b41"
      },
      "source": [
        "plt.scatter(t,ym)\n",
        "plt.plot(t,yp)\n",
        "plt.show() "
      ],
      "execution_count": 196,
      "outputs": [
        {
          "output_type": "display_data",
          "data": {
            "image/png": "[encoded data removed]",
            "text/plain": [
              "<Figure size 432x288 with 1 Axes>"
            ]
          },
          "metadata": {
            "tags": [],
            "needs_background": "light"
          }
        }
      ]
    },
    {
      "cell_type": "markdown",
      "metadata": {
        "id": "_H4Fk4RTsSCR",
        "colab_type": "text"
      },
      "source": [
        "### Problem #3\n",
        "\n",
        "Random numbers are important to simulate a physical process where there is a random fluctuation of the values. Some of the common random number generators in Numpy are shown in the table below.\n",
        "\n",
        "| ***Function*** | ***Description*** |\n",
        "| --- | --- |\n",
        "| rand | Uniformly distributed values |\n",
        "| randn | Normally distributed values |\n",
        "| randint | Uniformly distributed integers in a given range |\n",
        "\n",
        "A few examples are listed below:\n",
        "\n",
        "*Generate two random numbers between 0 and 1*\n",
        "\n",
        "```python\n",
        "import numpy as np\n",
        "print(np.random.rand(2))\n",
        "Result: [0.90411793 0.01642428]\n",
        "```\n",
        "\n",
        "*Generate a random number between -1 and 1*\n",
        "\n",
        "```python\n",
        "print(np.random.rand()*2.0-1.0)\n",
        "Result: -0.34398648976057977\n",
        "```\n",
        "\n",
        "*Generate a random integer between 1 and 10*\n",
        "\n",
        "```python\n",
        "print(np.random.randint(0,10)+1)\n",
        "Result: 4\n",
        "```\n",
        "\n",
        "*Generate 50 normally distributed values and create a histogram bar chart to view the distribution.*\n",
        "\n",
        "***Action:*** Increase the number of normally distributed points to ```n=1000``` and re-generate the plot."
      ]
    },
    {
      "cell_type": "code",
      "metadata": {
        "id": "47S8NT01sSCS",
        "colab_type": "code",
        "colab": {
          "base_uri": "https://localhost:8080/",
          "height": 330
        },
        "outputId": "c9d40deb-03ab-43cb-f0ab-976ad5f5b3e3"
      },
      "source": [
        "import numpy as np\n",
        "%matplotlib inline\n",
        "import matplotlib.pyplot as plt\n",
        "\n",
        "n = 1000\n",
        "x = np.random.randn(n)\n",
        "\n",
        "# count number in each bin\n",
        "bins=np.linspace(-5.5,5.5,23)\n",
        "print(bins)\n",
        "hist, _ = np.histogram(x, bins)\n",
        "\n",
        "# plot histogram data\n",
        "plt.bar(bins[0:-1]+0.25,hist,label=str(n)+' samples')\n",
        "plt.plot(bins[0:-1]+0.25,hist,'r-',lw=5)\n",
        "plt.xlabel('bin')\n",
        "plt.ylabel('count')\n",
        "plt.title('Normal Distribution')\n",
        "plt.legend(loc='best')\n",
        "plt.show()"
      ],
      "execution_count": 202,
      "outputs": [
        {
          "output_type": "stream",
          "text": [
            "[-5.5 -5.  -4.5 -4.  -3.5 -3.  -2.5 -2.  -1.5 -1.  -0.5  0.   0.5  1.\n",
            "  1.5  2.   2.5  3.   3.5  4.   4.5  5.   5.5]\n"
          ],
          "name": "stdout"
        },
        {
          "output_type": "display_data",
          "data": {
            "image/png": "[encoded data removed]",
            "text/plain": [
              "<Figure size 432x288 with 1 Axes>"
            ]
          },
          "metadata": {
            "tags": [],
            "needs_background": "light"
          }
        }
      ]
    },
    {
      "cell_type": "markdown",
      "metadata": {
        "id": "RN8PiddXsSCV",
        "colab_type": "text"
      },
      "source": [
        "***Action:*** Create 1000 random numbers with a Poisson distribution using ```lambda = 1```. Use the ```np.random.poisson(lam,n)``` function."
      ]
    },
    {
      "cell_type": "code",
      "metadata": {
        "id": "2o6evRimsSCW",
        "colab_type": "code",
        "colab": {
          "base_uri": "https://localhost:8080/",
          "height": 503
        },
        "outputId": "c82dc40c-21a6-4ea3-b850-0190b2972a89"
      },
      "source": [
        "x = np.random.poisson(1,1000)\n",
        "print(x)"
      ],
      "execution_count": 199,
      "outputs": [
        {
          "output_type": "stream",
          "text": [
            "[0 2 0 0 1 2 0 1 3 0 0 2 2 1 4 1 0 1 2 0 0 1 5 2 1 0 1 1 0 2 0 4 1 0 5 0 2\n",
            " 3 2 1 1 0 2 0 1 1 0 0 0 2 1 3 3 4 0 1 2 0 0 0 1 0 0 1 1 4 0 2 0 1 1 1 2 1\n",
            " 0 1 0 2 3 1 2 2 1 2 0 2 0 0 1 1 0 3 1 2 0 2 0 2 0 3 0 2 1 1 1 0 2 0 1 0 0\n",
            " 1 0 1 1 1 0 0 0 2 1 1 1 2 0 2 1 2 1 1 3 0 0 1 2 2 1 2 1 1 0 1 2 0 1 1 0 1\n",
            " 2 1 0 0 0 0 3 2 0 0 3 0 2 0 2 1 2 3 0 1 1 0 2 0 3 0 1 1 1 4 0 2 0 2 0 0 4\n",
            " 5 1 0 3 0 0 0 2 1 0 0 0 0 2 0 0 2 1 1 2 4 1 2 1 1 3 0 0 3 0 0 0 1 3 0 0 2\n",
            " 2 0 2 1 2 1 1 0 0 2 1 0 1 0 1 0 0 1 2 1 1 0 0 1 0 0 0 1 3 2 1 1 0 0 0 1 0\n",
            " 1 0 0 2 1 0 0 1 0 3 2 1 0 2 1 1 0 0 2 2 1 1 1 3 3 0 3 1 1 0 2 1 0 2 1 1 3\n",
            " 1 0 2 0 0 2 2 3 1 1 0 3 1 1 0 0 1 1 1 1 1 1 0 0 0 1 2 1 0 0 2 0 0 0 1 1 1\n",
            " 0 1 0 2 0 0 0 1 0 0 0 1 2 3 0 2 4 0 1 1 0 1 1 0 2 0 0 0 1 0 0 1 2 0 0 0 1\n",
            " 1 1 1 0 1 2 1 2 2 1 1 1 2 4 0 1 2 1 3 3 1 0 2 1 0 1 0 2 0 0 0 0 3 1 0 1 0\n",
            " 2 0 2 0 0 1 1 1 2 0 0 1 0 1 0 1 0 0 0 0 3 0 2 0 1 1 1 0 1 1 0 0 3 1 1 2 0\n",
            " 3 0 1 3 0 0 1 2 0 0 2 0 1 0 3 3 1 2 2 0 1 1 2 1 1 1 1 2 2 2 0 3 1 0 1 0 1\n",
            " 0 1 1 0 0 0 1 2 1 3 0 2 0 0 3 1 2 0 0 0 0 0 0 0 1 0 2 0 0 0 2 1 1 0 0 1 0\n",
            " 1 1 3 0 3 1 0 0 2 0 3 0 1 1 1 1 0 1 0 0 0 0 2 0 0 1 0 2 1 0 2 0 1 1 0 1 0\n",
            " 1 1 2 0 1 3 2 1 1 0 0 0 0 0 0 0 3 0 1 0 0 1 3 3 3 0 0 4 0 1 1 0 1 2 3 1 1\n",
            " 0 1 0 1 0 0 1 0 0 0 1 0 0 1 1 2 1 2 0 1 2 1 0 1 1 1 1 1 1 0 1 2 1 1 1 2 1\n",
            " 2 1 1 1 1 0 2 2 0 1 1 1 2 1 0 2 0 0 2 1 0 2 1 1 0 3 3 1 0 1 0 1 0 1 0 2 0\n",
            " 1 1 2 1 2 0 1 3 1 2 1 0 0 2 0 0 3 1 3 0 2 0 1 0 1 4 0 0 1 0 3 1 1 0 1 1 2\n",
            " 3 0 1 3 0 1 0 0 4 1 0 0 1 2 0 0 1 2 0 0 0 0 2 0 0 2 0 1 0 1 4 0 0 1 0 0 2\n",
            " 1 1 1 0 1 1 0 2 0 0 3 1 1 1 1 1 2 2 1 0 1 1 1 0 3 1 1 1 4 1 2 0 1 1 0 1 1\n",
            " 1 0 1 1 0 0 0 2 0 2 0 0 1 0 0 0 2 0 1 1 3 0 0 1 3 1 1 0 1 1 2 0 0 0 1 0 0\n",
            " 2 1 1 2 2 1 0 0 3 1 2 2 2 0 2 0 1 0 2 1 3 0 0 2 0 0 1 2 0 0 0 1 0 0 2 0 0\n",
            " 2 0 0 1 1 1 1 2 1 1 2 2 1 3 1 2 3 2 0 1 1 2 4 2 1 2 0 2 2 1 0 1 1 1 2 1 0\n",
            " 0 1 0 2 3 0 2 1 2 1 1 1 1 0 2 3 4 2 0 1 1 2 0 4 0 1 0 3 1 2 2 0 0 1 2 1 1\n",
            " 0 1 0 1 2 0 0 1 1 1 2 2 0 1 1 0 1 0 1 0 2 2 1 0 1 2 1 2 1 1 0 0 0 1 0 2 0\n",
            " 0 2 1 0 1 4 0 1 2 0 1 1 3 1 2 0 1 0 0 0 1 1 1 1 2 1 1 2 2 1 1 0 0 1 2 4 1\n",
            " 0]\n"
          ],
          "name": "stdout"
        }
      ]
    },
    {
      "cell_type": "markdown",
      "metadata": {
        "id": "AdnF_ckEsSCY",
        "colab_type": "text"
      },
      "source": [
        "***Action:*** Use bins (0,1,2,3,4,5) to determine the frequency at which a number appears. Use the ```np.histogram``` function to count the number in each bin.\n",
        "\n",
        "```python\n",
        "bins=[0,1,2,3,4,5,6]\n",
        "hist, _ = np.histogram(x, bins)\n",
        "```"
      ]
    },
    {
      "cell_type": "code",
      "metadata": {
        "id": "4lOo8MdTsSCZ",
        "colab_type": "code",
        "colab": {
          "base_uri": "https://localhost:8080/",
          "height": 35
        },
        "outputId": "aee73d12-2912-4607-9f8e-736f0b9d60e2"
      },
      "source": [
        "bins=[0,1,2,3,4,5,6]\n",
        "hist, _ = np.histogram(x, bins)\n",
        "hist"
      ],
      "execution_count": 200,
      "outputs": [
        {
          "output_type": "execute_result",
          "data": {
            "text/plain": [
              "array([377, 355, 180,  66,  19,   3])"
            ]
          },
          "metadata": {
            "tags": []
          },
          "execution_count": 200
        }
      ]
    },
    {
      "cell_type": "markdown",
      "metadata": {
        "id": "3PwmKhUhsSCd",
        "colab_type": "text"
      },
      "source": [
        "***Action:*** Plot the number in each bin with a column plot (total count versus bin). Use the ```plt.bar``` function in ```maplotlib.pyplot```.  Remove the last bin value so that the size of ```hist``` corresponds to the number of bins plotted as ```plt.bar(bins[0:-1],hist)```, where ```bins[0:-1]=[0,1,2,3,4,5]```."
      ]
    },
    {
      "cell_type": "code",
      "metadata": {
        "id": "qG3Bwe1HsSCe",
        "colab_type": "code",
        "colab": {
          "base_uri": "https://localhost:8080/",
          "height": 295
        },
        "outputId": "b24b1b4c-8e90-4324-c250-a5543960d5b7"
      },
      "source": [
        "plt.bar(bins[0:-1],hist,label=str(n)+' samples')\n",
        "plt.xlabel('bin')\n",
        "plt.ylabel('count')\n",
        "plt.title('Poisson Distribution')\n",
        "plt.legend(loc='best')\n",
        "plt.show()"
      ],
      "execution_count": 203,
      "outputs": [
        {
          "output_type": "display_data",
          "data": {
            "image/png": "[encoded data removed]",
            "text/plain": [
              "<Figure size 432x288 with 1 Axes>"
            ]
          },
          "metadata": {
            "tags": [],
            "needs_background": "light"
          }
        }
      ]
    },
    {
      "cell_type": "code",
      "metadata": {
        "id": "y283GxjPjnq0",
        "colab_type": "code",
        "colab": {}
      },
      "source": [
        ""
      ],
      "execution_count": null,
      "outputs": []
    }
  ]
}